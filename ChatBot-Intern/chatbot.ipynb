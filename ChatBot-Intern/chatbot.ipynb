{
 "cells": [
  {
   "cell_type": "markdown",
   "metadata": {},
   "source": [
    "## Importing libraries"
   ]
  },
  {
   "cell_type": "code",
   "execution_count": 1,
   "metadata": {},
   "outputs": [],
   "source": [
    "import pandas as pd\n",
    "from sklearn.model_selection import train_test_split\n",
    "from sklearn.feature_extraction.text import TfidfVectorizer"
   ]
  },
  {
   "cell_type": "markdown",
   "metadata": {},
   "source": [
    "## Load the dataset"
   ]
  },
  {
   "cell_type": "code",
   "execution_count": 2,
   "metadata": {},
   "outputs": [
    {
     "name": "stdout",
     "output_type": "stream",
     "text": [
      "  flags                                          utterance category  \\\n",
      "0    BM            I have problems with canceling an order    ORDER   \n",
      "1   BIM  how can I find information about canceling ord...    ORDER   \n",
      "2     B          I need help with canceling the last order    ORDER   \n",
      "3   BIP  could you help me cancelling the last order I ...    ORDER   \n",
      "4     B            problem with cancelling an order I made    ORDER   \n",
      "\n",
      "         intent  \n",
      "0  cancel_order  \n",
      "1  cancel_order  \n",
      "2  cancel_order  \n",
      "3  cancel_order  \n",
      "4  cancel_order  \n"
     ]
    }
   ],
   "source": [
    "data = pd.read_csv(\"Bitext_Sample_Customer_Service_Training_Dataset.csv\")  # Change to Excel if needed\n",
    "print(data.head())"
   ]
  },
  {
   "cell_type": "markdown",
   "metadata": {},
   "source": [
    "## Splitting dataset "
   ]
  },
  {
   "cell_type": "code",
   "execution_count": 3,
   "metadata": {},
   "outputs": [],
   "source": [
    "X= data['utterance']\n",
    "y= data['intent']\n",
    "X_train, X_test, y_train, y_test = train_test_split(X, y, test_size=0.2, random_state=42)"
   ]
  },
  {
   "cell_type": "markdown",
   "metadata": {},
   "source": [
    "## TF-IDF vectorization"
   ]
  },
  {
   "cell_type": "code",
   "execution_count": 4,
   "metadata": {},
   "outputs": [],
   "source": [
    "vectorizer = TfidfVectorizer(max_features=5000)\n",
    "X_train_vec = vectorizer.fit_transform(X_train)\n",
    "X_test_vec = vectorizer.transform(X_test)"
   ]
  },
  {
   "cell_type": "markdown",
   "metadata": {},
   "source": [
    "## Model selction and training"
   ]
  },
  {
   "cell_type": "markdown",
   "metadata": {},
   "source": [
    "## For basic : Logistic regression model"
   ]
  },
  {
   "cell_type": "code",
   "execution_count": 5,
   "metadata": {},
   "outputs": [
    {
     "name": "stdout",
     "output_type": "stream",
     "text": [
      "                          precision    recall  f1-score   support\n",
      "\n",
      "            cancel_order       0.98      0.98      0.98        62\n",
      "            change_order       1.00      1.00      1.00        70\n",
      " change_shipping_address       1.00      0.98      0.99        60\n",
      "  check_cancellation_fee       0.99      1.00      0.99        66\n",
      "           check_invoice       1.00      1.00      1.00        63\n",
      "   check_payment_methods       1.00      0.96      0.98        68\n",
      "     check_refund_policy       0.98      1.00      0.99        59\n",
      "               complaint       1.00      1.00      1.00        52\n",
      "contact_customer_service       0.98      1.00      0.99        61\n",
      "     contact_human_agent       1.00      1.00      1.00        57\n",
      "          create_account       0.98      0.94      0.96        62\n",
      "          delete_account       1.00      1.00      1.00        53\n",
      "        delivery_options       0.96      1.00      0.98        55\n",
      "         delivery_period       1.00      1.00      1.00        49\n",
      "            edit_account       0.99      0.99      0.99        69\n",
      "             get_invoice       1.00      1.00      1.00        72\n",
      "              get_refund       0.98      0.98      0.98        60\n",
      " newsletter_subscription       1.00      1.00      1.00        49\n",
      "           payment_issue       1.00      0.97      0.99        68\n",
      "             place_order       1.00      1.00      1.00        65\n",
      "        recover_password       0.97      1.00      0.98        62\n",
      "   registration_problems       0.98      0.98      0.98        53\n",
      "                  review       1.00      1.00      1.00        67\n",
      " set_up_shipping_address       1.00      1.00      1.00        59\n",
      "          switch_account       0.97      1.00      0.98        57\n",
      "             track_order       1.00      1.00      1.00        63\n",
      "            track_refund       1.00      1.00      1.00        54\n",
      "\n",
      "                accuracy                           0.99      1635\n",
      "               macro avg       0.99      0.99      0.99      1635\n",
      "            weighted avg       0.99      0.99      0.99      1635\n",
      "\n"
     ]
    }
   ],
   "source": [
    "from sklearn.linear_model import LogisticRegression\n",
    "from sklearn.metrics import classification_report\n",
    "\n",
    "# Train a Logistic Regression model\n",
    "model = LogisticRegression()\n",
    "model.fit(X_train_vec, y_train)\n",
    "\n",
    "# Test the model\n",
    "y_pred = model.predict(X_test_vec)\n",
    "print(classification_report(y_test, y_pred))\n"
   ]
  },
  {
   "cell_type": "markdown",
   "metadata": {},
   "source": [
    "## For advance BERT with Hugging Face Transformers"
   ]
  },
  {
   "cell_type": "code",
   "execution_count": 6,
   "metadata": {},
   "outputs": [
    {
     "name": "stderr",
     "output_type": "stream",
     "text": [
      "c:\\Users\\ganes\\AppData\\Local\\Programs\\Python\\Python312\\Lib\\site-packages\\tqdm\\auto.py:21: TqdmWarning: IProgress not found. Please update jupyter and ipywidgets. See https://ipywidgets.readthedocs.io/en/stable/user_install.html\n",
      "  from .autonotebook import tqdm as notebook_tqdm\n",
      "c:\\Users\\ganes\\AppData\\Local\\Programs\\Python\\Python312\\Lib\\site-packages\\huggingface_hub\\file_download.py:139: UserWarning: `huggingface_hub` cache-system uses symlinks by default to efficiently store duplicated files but your machine does not support them in C:\\Users\\ganes\\.cache\\huggingface\\hub\\models--bert-base-uncased. Caching files will still work but in a degraded version that might require more space on your disk. This warning can be disabled by setting the `HF_HUB_DISABLE_SYMLINKS_WARNING` environment variable. For more details, see https://huggingface.co/docs/huggingface_hub/how-to-cache#limitations.\n",
      "To support symlinks on Windows, you either need to activate Developer Mode or to run Python as an administrator. In order to activate developer mode, see this article: https://docs.microsoft.com/en-us/windows/apps/get-started/enable-your-device-for-development\n",
      "  warnings.warn(message)\n"
     ]
    }
   ],
   "source": [
    "from transformers import BertTokenizer, BertForSequenceClassification\n",
    "from torch.utils.data import DataLoader, Dataset\n",
    "\n",
    "# Tokenization using BERT\n",
    "tokenizer = BertTokenizer.from_pretrained('bert-base-uncased')\n",
    "\n",
    "class IntentDataset(Dataset):\n",
    "    def __init__(self, texts, labels, tokenizer, max_len):\n",
    "        self.texts = texts\n",
    "        self.labels = labels\n",
    "        self.tokenizer = tokenizer\n",
    "        self.max_len = max_len\n",
    "\n",
    "    def __len__(self):\n",
    "        return len(self.texts)\n",
    "\n",
    "    def __getitem__(self, idx):\n",
    "        text = self.texts[idx]\n",
    "        label = self.labels[idx]\n",
    "        encoding = self.tokenizer(\n",
    "            text,\n",
    "            max_length=self.max_len,\n",
    "            padding='max_length',\n",
    "            truncation=True,\n",
    "            return_tensors='pt',\n",
    "        )\n",
    "        return {\n",
    "            'input_ids': encoding['input_ids'].squeeze(),\n",
    "            'attention_mask': encoding['attention_mask'].squeeze(),\n",
    "            'label': label,\n",
    "        }\n",
    "\n",
    "# Create DataLoader for training and testing\n"
   ]
  }
 ],
 "metadata": {
  "kernelspec": {
   "display_name": "Python 3",
   "language": "python",
   "name": "python3"
  },
  "language_info": {
   "codemirror_mode": {
    "name": "ipython",
    "version": 3
   },
   "file_extension": ".py",
   "mimetype": "text/x-python",
   "name": "python",
   "nbconvert_exporter": "python",
   "pygments_lexer": "ipython3",
   "version": "3.12.2"
  }
 },
 "nbformat": 4,
 "nbformat_minor": 2
}
